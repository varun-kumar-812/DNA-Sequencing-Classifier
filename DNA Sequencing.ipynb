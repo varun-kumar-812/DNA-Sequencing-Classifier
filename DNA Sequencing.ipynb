{
 "cells": [
  {
   "cell_type": "code",
   "execution_count": 1,
   "metadata": {},
   "outputs": [],
   "source": [
    "import numpy as np\n",
    "import pandas as pd"
   ]
  },
  {
   "cell_type": "code",
   "execution_count": 2,
   "metadata": {},
   "outputs": [
    {
     "data": {
      "text/html": [
       "<div>\n",
       "<style scoped>\n",
       "    .dataframe tbody tr th:only-of-type {\n",
       "        vertical-align: middle;\n",
       "    }\n",
       "\n",
       "    .dataframe tbody tr th {\n",
       "        vertical-align: top;\n",
       "    }\n",
       "\n",
       "    .dataframe thead th {\n",
       "        text-align: right;\n",
       "    }\n",
       "</style>\n",
       "<table border=\"1\" class=\"dataframe\">\n",
       "  <thead>\n",
       "    <tr style=\"text-align: right;\">\n",
       "      <th></th>\n",
       "      <th>sequence</th>\n",
       "      <th>class</th>\n",
       "    </tr>\n",
       "  </thead>\n",
       "  <tbody>\n",
       "    <tr>\n",
       "      <th>0</th>\n",
       "      <td>ATGCCCCAACTAAATACTACCGTATGGCCCACCATAATTACCCCCA...</td>\n",
       "      <td>4</td>\n",
       "    </tr>\n",
       "    <tr>\n",
       "      <th>1</th>\n",
       "      <td>ATGAACGAAAATCTGTTCGCTTCATTCATTGCCCCCACAATCCTAG...</td>\n",
       "      <td>4</td>\n",
       "    </tr>\n",
       "    <tr>\n",
       "      <th>2</th>\n",
       "      <td>ATGTGTGGCATTTGGGCGCTGTTTGGCAGTGATGATTGCCTTTCTG...</td>\n",
       "      <td>3</td>\n",
       "    </tr>\n",
       "    <tr>\n",
       "      <th>3</th>\n",
       "      <td>ATGTGTGGCATTTGGGCGCTGTTTGGCAGTGATGATTGCCTTTCTG...</td>\n",
       "      <td>3</td>\n",
       "    </tr>\n",
       "    <tr>\n",
       "      <th>4</th>\n",
       "      <td>ATGCAACAGCATTTTGAATTTGAATACCAGACCAAAGTGGATGGTG...</td>\n",
       "      <td>3</td>\n",
       "    </tr>\n",
       "  </tbody>\n",
       "</table>\n",
       "</div>"
      ],
      "text/plain": [
       "                                            sequence  class\n",
       "0  ATGCCCCAACTAAATACTACCGTATGGCCCACCATAATTACCCCCA...      4\n",
       "1  ATGAACGAAAATCTGTTCGCTTCATTCATTGCCCCCACAATCCTAG...      4\n",
       "2  ATGTGTGGCATTTGGGCGCTGTTTGGCAGTGATGATTGCCTTTCTG...      3\n",
       "3  ATGTGTGGCATTTGGGCGCTGTTTGGCAGTGATGATTGCCTTTCTG...      3\n",
       "4  ATGCAACAGCATTTTGAATTTGAATACCAGACCAAAGTGGATGGTG...      3"
      ]
     },
     "execution_count": 2,
     "metadata": {},
     "output_type": "execute_result"
    }
   ],
   "source": [
    "human_data = pd.read_table('/home/varun/Back up/digitalV/DNA/human_data.txt')\n",
    "human_data.head()"
   ]
  },
  {
   "cell_type": "code",
   "execution_count": 3,
   "metadata": {},
   "outputs": [
    {
     "data": {
      "text/plain": [
       "(4380, 2)"
      ]
     },
     "execution_count": 3,
     "metadata": {},
     "output_type": "execute_result"
    }
   ],
   "source": [
    "human_data.shape"
   ]
  },
  {
   "cell_type": "code",
   "execution_count": 4,
   "metadata": {},
   "outputs": [
    {
     "data": {
      "text/plain": [
       "array([4, 3, 5, 2, 6, 0, 1])"
      ]
     },
     "execution_count": 4,
     "metadata": {},
     "output_type": "execute_result"
    }
   ],
   "source": [
    "human_data['class'].unique()"
   ]
  },
  {
   "cell_type": "code",
   "execution_count": 5,
   "metadata": {},
   "outputs": [
    {
     "data": {
      "text/plain": [
       "<matplotlib.axes._subplots.AxesSubplot at 0x7fbe2bee8160>"
      ]
     },
     "execution_count": 5,
     "metadata": {},
     "output_type": "execute_result"
    },
    {
     "data": {
      "image/png": "[encoded data removed]",
      "text/plain": [
       "<Figure size 432x288 with 1 Axes>"
      ]
     },
     "metadata": {
      "needs_background": "light"
     },
     "output_type": "display_data"
    }
   ],
   "source": [
    "import seaborn as sns\n",
    "sns.countplot(human_data['class'])"
   ]
  },
  {
   "cell_type": "code",
   "execution_count": 6,
   "metadata": {},
   "outputs": [
    {
     "data": {
      "text/html": [
       "<div>\n",
       "<style scoped>\n",
       "    .dataframe tbody tr th:only-of-type {\n",
       "        vertical-align: middle;\n",
       "    }\n",
       "\n",
       "    .dataframe tbody tr th {\n",
       "        vertical-align: top;\n",
       "    }\n",
       "\n",
       "    .dataframe thead th {\n",
       "        text-align: right;\n",
       "    }\n",
       "</style>\n",
       "<table border=\"1\" class=\"dataframe\">\n",
       "  <thead>\n",
       "    <tr style=\"text-align: right;\">\n",
       "      <th></th>\n",
       "      <th>sequence</th>\n",
       "      <th>class</th>\n",
       "    </tr>\n",
       "  </thead>\n",
       "  <tbody>\n",
       "    <tr>\n",
       "      <th>0</th>\n",
       "      <td>ATGCCCCAACTAAATACCGCCGTATGACCCACCATAATTACCCCCA...</td>\n",
       "      <td>4</td>\n",
       "    </tr>\n",
       "    <tr>\n",
       "      <th>1</th>\n",
       "      <td>ATGAACGAAAATCTATTCGCTTCATTCGCTGCCCCCACAATCCTAG...</td>\n",
       "      <td>4</td>\n",
       "    </tr>\n",
       "    <tr>\n",
       "      <th>2</th>\n",
       "      <td>ATGGCCTCGCGCTGGTGGCGGTGGCGACGCGGCTGCTCCTGGAGGC...</td>\n",
       "      <td>4</td>\n",
       "    </tr>\n",
       "    <tr>\n",
       "      <th>3</th>\n",
       "      <td>ATGGCCTCGCGCTGGTGGCGGTGGCGACGCGGCTGCTCCTGGAGGC...</td>\n",
       "      <td>4</td>\n",
       "    </tr>\n",
       "    <tr>\n",
       "      <th>4</th>\n",
       "      <td>ATGGGCAGCGCCAGCCCGGGTCTGAGCAGCGTGTCCCCCAGCCACC...</td>\n",
       "      <td>6</td>\n",
       "    </tr>\n",
       "  </tbody>\n",
       "</table>\n",
       "</div>"
      ],
      "text/plain": [
       "                                            sequence  class\n",
       "0  ATGCCCCAACTAAATACCGCCGTATGACCCACCATAATTACCCCCA...      4\n",
       "1  ATGAACGAAAATCTATTCGCTTCATTCGCTGCCCCCACAATCCTAG...      4\n",
       "2  ATGGCCTCGCGCTGGTGGCGGTGGCGACGCGGCTGCTCCTGGAGGC...      4\n",
       "3  ATGGCCTCGCGCTGGTGGCGGTGGCGACGCGGCTGCTCCTGGAGGC...      4\n",
       "4  ATGGGCAGCGCCAGCCCGGGTCTGAGCAGCGTGTCCCCCAGCCACC...      6"
      ]
     },
     "execution_count": 6,
     "metadata": {},
     "output_type": "execute_result"
    }
   ],
   "source": [
    "dog_data = pd.read_table('/home/varun/Back up/digitalV/DNA/dog_data.txt')\n",
    "chimp_data = pd.read_table('/home/varun/Back up/digitalV/DNA/chimp_data.txt')\n",
    "chimp_data.head()"
   ]
  },
  {
   "cell_type": "markdown",
   "metadata": {},
   "source": [
    "Treating DNA sequence as a \"language\", otherwise known as k-mer counting\n",
    "\n",
    "A challenge that remains is that none of these above methods results in vectors of uniform length, and that is a requirement for feeding data to a classification or regression algorithm. So with the above methods you have to resort to things like truncating sequences or padding with \"n\" or \"0\" to get vectors of uniform length.\n",
    "\n",
    "DNA and protein sequences can be viewed metaphorically as the language of life. The language encodes instructions as well as function for the molecules that are found in all life forms. The sequence language analogy continues with the genome as the book, subsequences (genes and gene families) are sentences and chapters, k-mers and peptides (motifs) are words, and nucleotide bases and amino acids are the alphabet.\n",
    "\n",
    "The method I use here is simple and easy. I first take the long biological sequence and break it down into k-mer length overlapping “words”. For example, if I use \"words\" of length 6 (hexamers), “ATGCATGCA” becomes: ‘ATGCAT’, ‘TGCATG’, ‘GCATGC’, ‘CATGCA’. Hence our example sequence is broken down into 4 hexamer words.\n"
   ]
  },
  {
   "cell_type": "code",
   "execution_count": 7,
   "metadata": {},
   "outputs": [],
   "source": [
    "def getKmers(sequence,size=6):\n",
    "    return [sequence[x: x+6].lower() for x in range(len(sequence) - size + 1)]"
   ]
  },
  {
   "cell_type": "code",
   "execution_count": 8,
   "metadata": {},
   "outputs": [],
   "source": [
    "human_data['words'] = human_data['sequence'].apply(lambda x : getKmers(x))\n",
    "dog_data['words'] = dog_data['sequence'].apply(lambda x : getKmers(x))\n",
    "chimp_data['words'] = chimp_data['sequence'].apply(lambda x : getKmers(x))"
   ]
  },
  {
   "cell_type": "code",
   "execution_count": 9,
   "metadata": {},
   "outputs": [],
   "source": [
    "human_data = human_data.drop('sequence',axis = 1)\n",
    "dog_data = dog_data.drop('sequence',axis = 1)\n",
    "chimp_data = chimp_data.drop('sequence',axis = 1)"
   ]
  },
  {
   "cell_type": "code",
   "execution_count": 10,
   "metadata": {},
   "outputs": [
    {
     "data": {
      "text/html": [
       "<div>\n",
       "<style scoped>\n",
       "    .dataframe tbody tr th:only-of-type {\n",
       "        vertical-align: middle;\n",
       "    }\n",
       "\n",
       "    .dataframe tbody tr th {\n",
       "        vertical-align: top;\n",
       "    }\n",
       "\n",
       "    .dataframe thead th {\n",
       "        text-align: right;\n",
       "    }\n",
       "</style>\n",
       "<table border=\"1\" class=\"dataframe\">\n",
       "  <thead>\n",
       "    <tr style=\"text-align: right;\">\n",
       "      <th></th>\n",
       "      <th>class</th>\n",
       "      <th>words</th>\n",
       "    </tr>\n",
       "  </thead>\n",
       "  <tbody>\n",
       "    <tr>\n",
       "      <th>0</th>\n",
       "      <td>4</td>\n",
       "      <td>[atgccc, tgcccc, gcccca, ccccaa, cccaac, ccaac...</td>\n",
       "    </tr>\n",
       "    <tr>\n",
       "      <th>1</th>\n",
       "      <td>4</td>\n",
       "      <td>[atgaac, tgaacg, gaacga, aacgaa, acgaaa, cgaaa...</td>\n",
       "    </tr>\n",
       "    <tr>\n",
       "      <th>2</th>\n",
       "      <td>4</td>\n",
       "      <td>[atggcc, tggcct, ggcctc, gcctcg, cctcgc, ctcgc...</td>\n",
       "    </tr>\n",
       "    <tr>\n",
       "      <th>3</th>\n",
       "      <td>4</td>\n",
       "      <td>[atggcc, tggcct, ggcctc, gcctcg, cctcgc, ctcgc...</td>\n",
       "    </tr>\n",
       "    <tr>\n",
       "      <th>4</th>\n",
       "      <td>6</td>\n",
       "      <td>[atgggc, tgggca, gggcag, ggcagc, gcagcg, cagcg...</td>\n",
       "    </tr>\n",
       "  </tbody>\n",
       "</table>\n",
       "</div>"
      ],
      "text/plain": [
       "   class                                              words\n",
       "0      4  [atgccc, tgcccc, gcccca, ccccaa, cccaac, ccaac...\n",
       "1      4  [atgaac, tgaacg, gaacga, aacgaa, acgaaa, cgaaa...\n",
       "2      4  [atggcc, tggcct, ggcctc, gcctcg, cctcgc, ctcgc...\n",
       "3      4  [atggcc, tggcct, ggcctc, gcctcg, cctcgc, ctcgc...\n",
       "4      6  [atgggc, tgggca, gggcag, ggcagc, gcagcg, cagcg..."
      ]
     },
     "execution_count": 10,
     "metadata": {},
     "output_type": "execute_result"
    }
   ],
   "source": [
    "chimp_data.head()"
   ]
  },
  {
   "cell_type": "code",
   "execution_count": 11,
   "metadata": {},
   "outputs": [],
   "source": [
    "human_texts = list(human_data['words'])\n",
    "for text in range(len(human_texts)):\n",
    "    human_texts[text] = ' '.join(human_texts[text])"
   ]
  },
  {
   "cell_type": "code",
   "execution_count": 12,
   "metadata": {},
   "outputs": [],
   "source": [
    "dog_texts = list(dog_data['words'])\n",
    "for text in range(len(dog_texts)):\n",
    "    dog_texts[text] = ' '.join(dog_texts[text])\n",
    "    \n",
    "chimp_texts = list(chimp_data['words'])\n",
    "for text in range(len(chimp_texts)):\n",
    "    chimp_texts[text] = ' '.join(chimp_texts [text])"
   ]
  },
  {
   "cell_type": "code",
   "execution_count": null,
   "metadata": {},
   "outputs": [],
   "source": [
    "##FEATURE EXTRACTION(COUNTVECTORIZER)"
   ]
  },
  {
   "cell_type": "code",
   "execution_count": 13,
   "metadata": {},
   "outputs": [],
   "source": [
    "from sklearn.feature_extraction.text import CountVectorizer\n",
    "count_vect = CountVectorizer(ngram_range=(4,4))\n",
    "\n",
    "X = count_vect.fit_transform(human_texts)\n",
    "X_dogs = count_vect.fit_transform(dog_texts)\n",
    "X_chimps = count_vect.fit_transform(chimp_texts)"
   ]
  },
  {
   "cell_type": "code",
   "execution_count": 14,
   "metadata": {},
   "outputs": [
    {
     "data": {
      "text/plain": [
       "(4380, 232414)"
      ]
     },
     "execution_count": 14,
     "metadata": {},
     "output_type": "execute_result"
    }
   ],
   "source": [
    "X.shape"
   ]
  },
  {
   "cell_type": "code",
   "execution_count": 15,
   "metadata": {},
   "outputs": [
    {
     "data": {
      "text/plain": [
       "array([4, 4, 6, 6, 0, 6, 0, 0, 0])"
      ]
     },
     "execution_count": 15,
     "metadata": {},
     "output_type": "execute_result"
    }
   ],
   "source": [
    "y = human_data.iloc[:,0].values\n",
    "y_dog = dog_data.iloc[:,0].values\n",
    "y_chimp = chimp_data.iloc[:,0].values\n",
    "y_dog[0:9]"
   ]
  },
  {
   "cell_type": "code",
   "execution_count": null,
   "metadata": {},
   "outputs": [],
   "source": [
    "##Train Test Split"
   ]
  },
  {
   "cell_type": "code",
   "execution_count": 16,
   "metadata": {},
   "outputs": [],
   "source": [
    "from sklearn.model_selection import train_test_split\n",
    "\n",
    "X_train, X_test, y_train, y_test = train_test_split(X, y, test_size=0.2, random_state=42)\n",
    "X_dog_train, X_dog_test, y_dog_train, y_dog_test = train_test_split(X_dogs, y_dog, test_size=0.2, random_state=42)\n",
    "X_chimp_train, X_chimp_test, y_chimp_train, y_chimp_test = train_test_split(X_chimps, y_chimp, test_size=0.2, random_state=42)"
   ]
  },
  {
   "cell_type": "code",
   "execution_count": 17,
   "metadata": {},
   "outputs": [
    {
     "name": "stdout",
     "output_type": "stream",
     "text": [
      "(3504, 232414)\n",
      "(876, 232414)\n"
     ]
    }
   ],
   "source": [
    "print(X_train.shape)\n",
    "print(X_test.shape)"
   ]
  },
  {
   "cell_type": "code",
   "execution_count": null,
   "metadata": {},
   "outputs": [],
   "source": [
    "## Model Building For Human Data"
   ]
  },
  {
   "cell_type": "code",
   "execution_count": 18,
   "metadata": {},
   "outputs": [],
   "source": [
    "import warnings\n",
    "warnings.filterwarnings(\"ignore\", category=DeprecationWarning)\n",
    "from sklearn.naive_bayes import MultinomialNB\n",
    "from sklearn.model_selection import GridSearchCV"
   ]
  },
  {
   "cell_type": "code",
   "execution_count": 19,
   "metadata": {},
   "outputs": [
    {
     "data": {
      "text/html": [
       "<div>\n",
       "<style scoped>\n",
       "    .dataframe tbody tr th:only-of-type {\n",
       "        vertical-align: middle;\n",
       "    }\n",
       "\n",
       "    .dataframe tbody tr th {\n",
       "        vertical-align: top;\n",
       "    }\n",
       "\n",
       "    .dataframe thead th {\n",
       "        text-align: right;\n",
       "    }\n",
       "</style>\n",
       "<table border=\"1\" class=\"dataframe\">\n",
       "  <thead>\n",
       "    <tr style=\"text-align: right;\">\n",
       "      <th></th>\n",
       "      <th>mean_fit_time</th>\n",
       "      <th>std_fit_time</th>\n",
       "      <th>mean_score_time</th>\n",
       "      <th>std_score_time</th>\n",
       "      <th>param_alpha</th>\n",
       "      <th>params</th>\n",
       "      <th>split0_test_score</th>\n",
       "      <th>split1_test_score</th>\n",
       "      <th>split2_test_score</th>\n",
       "      <th>split3_test_score</th>\n",
       "      <th>split4_test_score</th>\n",
       "      <th>split5_test_score</th>\n",
       "      <th>mean_test_score</th>\n",
       "      <th>std_test_score</th>\n",
       "      <th>rank_test_score</th>\n",
       "    </tr>\n",
       "  </thead>\n",
       "  <tbody>\n",
       "    <tr>\n",
       "      <th>2</th>\n",
       "      <td>0.213289</td>\n",
       "      <td>0.014658</td>\n",
       "      <td>0.029885</td>\n",
       "      <td>0.003512</td>\n",
       "      <td>0.5</td>\n",
       "      <td>{'alpha': 0.5}</td>\n",
       "      <td>0.964041</td>\n",
       "      <td>0.976027</td>\n",
       "      <td>0.960616</td>\n",
       "      <td>0.965753</td>\n",
       "      <td>0.953767</td>\n",
       "      <td>0.976027</td>\n",
       "      <td>0.966039</td>\n",
       "      <td>0.007996</td>\n",
       "      <td>1</td>\n",
       "    </tr>\n",
       "    <tr>\n",
       "      <th>5</th>\n",
       "      <td>0.209377</td>\n",
       "      <td>0.002740</td>\n",
       "      <td>0.028051</td>\n",
       "      <td>0.000421</td>\n",
       "      <td>3</td>\n",
       "      <td>{'alpha': 3}</td>\n",
       "      <td>0.964041</td>\n",
       "      <td>0.976027</td>\n",
       "      <td>0.962329</td>\n",
       "      <td>0.958904</td>\n",
       "      <td>0.950342</td>\n",
       "      <td>0.970890</td>\n",
       "      <td>0.963756</td>\n",
       "      <td>0.008237</td>\n",
       "      <td>2</td>\n",
       "    </tr>\n",
       "    <tr>\n",
       "      <th>3</th>\n",
       "      <td>0.214635</td>\n",
       "      <td>0.005373</td>\n",
       "      <td>0.028655</td>\n",
       "      <td>0.001647</td>\n",
       "      <td>0.8</td>\n",
       "      <td>{'alpha': 0.8}</td>\n",
       "      <td>0.962329</td>\n",
       "      <td>0.972603</td>\n",
       "      <td>0.950342</td>\n",
       "      <td>0.964041</td>\n",
       "      <td>0.950342</td>\n",
       "      <td>0.974315</td>\n",
       "      <td>0.962329</td>\n",
       "      <td>0.009482</td>\n",
       "      <td>3</td>\n",
       "    </tr>\n",
       "    <tr>\n",
       "      <th>4</th>\n",
       "      <td>0.209105</td>\n",
       "      <td>0.004163</td>\n",
       "      <td>0.028363</td>\n",
       "      <td>0.002027</td>\n",
       "      <td>1</td>\n",
       "      <td>{'alpha': 1}</td>\n",
       "      <td>0.962329</td>\n",
       "      <td>0.972603</td>\n",
       "      <td>0.948630</td>\n",
       "      <td>0.962329</td>\n",
       "      <td>0.950342</td>\n",
       "      <td>0.974315</td>\n",
       "      <td>0.961758</td>\n",
       "      <td>0.009820</td>\n",
       "      <td>4</td>\n",
       "    </tr>\n",
       "    <tr>\n",
       "      <th>1</th>\n",
       "      <td>0.202021</td>\n",
       "      <td>0.002497</td>\n",
       "      <td>0.027617</td>\n",
       "      <td>0.000821</td>\n",
       "      <td>0.1</td>\n",
       "      <td>{'alpha': 0.1}</td>\n",
       "      <td>0.967466</td>\n",
       "      <td>0.979452</td>\n",
       "      <td>0.945205</td>\n",
       "      <td>0.950342</td>\n",
       "      <td>0.946918</td>\n",
       "      <td>0.976027</td>\n",
       "      <td>0.960902</td>\n",
       "      <td>0.013961</td>\n",
       "      <td>5</td>\n",
       "    </tr>\n",
       "  </tbody>\n",
       "</table>\n",
       "</div>"
      ],
      "text/plain": [
       "   mean_fit_time  std_fit_time  mean_score_time  std_score_time param_alpha  \\\n",
       "2       0.213289      0.014658         0.029885        0.003512         0.5   \n",
       "5       0.209377      0.002740         0.028051        0.000421           3   \n",
       "3       0.214635      0.005373         0.028655        0.001647         0.8   \n",
       "4       0.209105      0.004163         0.028363        0.002027           1   \n",
       "1       0.202021      0.002497         0.027617        0.000821         0.1   \n",
       "\n",
       "           params  split0_test_score  split1_test_score  split2_test_score  \\\n",
       "2  {'alpha': 0.5}           0.964041           0.976027           0.960616   \n",
       "5    {'alpha': 3}           0.964041           0.976027           0.962329   \n",
       "3  {'alpha': 0.8}           0.962329           0.972603           0.950342   \n",
       "4    {'alpha': 1}           0.962329           0.972603           0.948630   \n",
       "1  {'alpha': 0.1}           0.967466           0.979452           0.945205   \n",
       "\n",
       "   split3_test_score  split4_test_score  split5_test_score  mean_test_score  \\\n",
       "2           0.965753           0.953767           0.976027         0.966039   \n",
       "5           0.958904           0.950342           0.970890         0.963756   \n",
       "3           0.964041           0.950342           0.974315         0.962329   \n",
       "4           0.962329           0.950342           0.974315         0.961758   \n",
       "1           0.950342           0.946918           0.976027         0.960902   \n",
       "\n",
       "   std_test_score  rank_test_score  \n",
       "2        0.007996                1  \n",
       "5        0.008237                2  \n",
       "3        0.009482                3  \n",
       "4        0.009820                4  \n",
       "1        0.013961                5  "
      ]
     },
     "execution_count": 19,
     "metadata": {},
     "output_type": "execute_result"
    }
   ],
   "source": [
    "parameters = {\n",
    "    'alpha' : [0.01,0.1,0.5,0.8,1,3]\n",
    "}\n",
    "naive_m = MultinomialNB()\n",
    "\n",
    "gs = GridSearchCV(naive_m,parameters,cv=6)\n",
    "gs_fit = gs.fit(X_train,y_train)\n",
    "pd.DataFrame(gs_fit.cv_results_).sort_values('mean_test_score',ascending=False).head()"
   ]
  },
  {
   "cell_type": "code",
   "execution_count": 20,
   "metadata": {},
   "outputs": [
    {
     "data": {
      "text/plain": [
       "array([2, 0, 4, 6, 3])"
      ]
     },
     "execution_count": 20,
     "metadata": {},
     "output_type": "execute_result"
    }
   ],
   "source": [
    "predictions = gs_fit.predict(X_test)\n",
    "predictions[0:5]"
   ]
  },
  {
   "cell_type": "code",
   "execution_count": 21,
   "metadata": {},
   "outputs": [
    {
     "name": "stdout",
     "output_type": "stream",
     "text": [
      "The accuracy score for human data is :  0.9863013698630136\n"
     ]
    }
   ],
   "source": [
    "from sklearn.metrics import accuracy_score, confusion_matrix, classification_report\n",
    "print('The accuracy score for human data is : ',accuracy_score(y_test,predictions) )"
   ]
  },
  {
   "cell_type": "code",
   "execution_count": 22,
   "metadata": {},
   "outputs": [
    {
     "name": "stdout",
     "output_type": "stream",
     "text": [
      "Confusion matrix for human data is :  [[100   0   0   0   2   0   0]\n",
      " [  0 104   0   0   0   0   2]\n",
      " [  0   0  78   0   0   0   0]\n",
      " [  0   0   0 124   1   0   0]\n",
      " [  0   0   0   0 146   0   3]\n",
      " [  0   0   0   0   0  51   0]\n",
      " [  1   0   0   1   2   0 261]]\n"
     ]
    }
   ],
   "source": [
    "print('Confusion matrix for human data is : ',confusion_matrix(y_test,predictions) )"
   ]
  },
  {
   "cell_type": "code",
   "execution_count": 23,
   "metadata": {},
   "outputs": [
    {
     "name": "stdout",
     "output_type": "stream",
     "text": [
      "classification_report for human data is : \n",
      "               precision    recall  f1-score   support\n",
      "\n",
      "           0       0.99      0.98      0.99       102\n",
      "           1       1.00      0.98      0.99       106\n",
      "           2       1.00      1.00      1.00        78\n",
      "           3       0.99      0.99      0.99       125\n",
      "           4       0.97      0.98      0.97       149\n",
      "           5       1.00      1.00      1.00        51\n",
      "           6       0.98      0.98      0.98       265\n",
      "\n",
      "    accuracy                           0.99       876\n",
      "   macro avg       0.99      0.99      0.99       876\n",
      "weighted avg       0.99      0.99      0.99       876\n",
      "\n"
     ]
    }
   ],
   "source": [
    "print('classification_report for human data is : \\n', classification_report(y_test,predictions) )"
   ]
  },
  {
   "cell_type": "code",
   "execution_count": null,
   "metadata": {},
   "outputs": [],
   "source": [
    "## Model Building For Dog Data"
   ]
  },
  {
   "cell_type": "code",
   "execution_count": 24,
   "metadata": {},
   "outputs": [
    {
     "data": {
      "text/html": [
       "<div>\n",
       "<style scoped>\n",
       "    .dataframe tbody tr th:only-of-type {\n",
       "        vertical-align: middle;\n",
       "    }\n",
       "\n",
       "    .dataframe tbody tr th {\n",
       "        vertical-align: top;\n",
       "    }\n",
       "\n",
       "    .dataframe thead th {\n",
       "        text-align: right;\n",
       "    }\n",
       "</style>\n",
       "<table border=\"1\" class=\"dataframe\">\n",
       "  <thead>\n",
       "    <tr style=\"text-align: right;\">\n",
       "      <th></th>\n",
       "      <th>mean_fit_time</th>\n",
       "      <th>std_fit_time</th>\n",
       "      <th>mean_score_time</th>\n",
       "      <th>std_score_time</th>\n",
       "      <th>param_alpha</th>\n",
       "      <th>params</th>\n",
       "      <th>split0_test_score</th>\n",
       "      <th>split1_test_score</th>\n",
       "      <th>split2_test_score</th>\n",
       "      <th>split3_test_score</th>\n",
       "      <th>split4_test_score</th>\n",
       "      <th>split5_test_score</th>\n",
       "      <th>mean_test_score</th>\n",
       "      <th>std_test_score</th>\n",
       "      <th>rank_test_score</th>\n",
       "    </tr>\n",
       "  </thead>\n",
       "  <tbody>\n",
       "    <tr>\n",
       "      <th>2</th>\n",
       "      <td>0.075963</td>\n",
       "      <td>0.002686</td>\n",
       "      <td>0.011381</td>\n",
       "      <td>0.000929</td>\n",
       "      <td>0.5</td>\n",
       "      <td>{'alpha': 0.5}</td>\n",
       "      <td>0.700000</td>\n",
       "      <td>0.690909</td>\n",
       "      <td>0.743119</td>\n",
       "      <td>0.651376</td>\n",
       "      <td>0.688073</td>\n",
       "      <td>0.678899</td>\n",
       "      <td>0.692063</td>\n",
       "      <td>0.027434</td>\n",
       "      <td>1</td>\n",
       "    </tr>\n",
       "    <tr>\n",
       "      <th>3</th>\n",
       "      <td>0.074333</td>\n",
       "      <td>0.003320</td>\n",
       "      <td>0.010884</td>\n",
       "      <td>0.000860</td>\n",
       "      <td>0.8</td>\n",
       "      <td>{'alpha': 0.8}</td>\n",
       "      <td>0.700000</td>\n",
       "      <td>0.663636</td>\n",
       "      <td>0.743119</td>\n",
       "      <td>0.642202</td>\n",
       "      <td>0.697248</td>\n",
       "      <td>0.678899</td>\n",
       "      <td>0.687517</td>\n",
       "      <td>0.031728</td>\n",
       "      <td>2</td>\n",
       "    </tr>\n",
       "    <tr>\n",
       "      <th>4</th>\n",
       "      <td>0.075539</td>\n",
       "      <td>0.003366</td>\n",
       "      <td>0.010551</td>\n",
       "      <td>0.000507</td>\n",
       "      <td>1</td>\n",
       "      <td>{'alpha': 1}</td>\n",
       "      <td>0.690909</td>\n",
       "      <td>0.663636</td>\n",
       "      <td>0.743119</td>\n",
       "      <td>0.651376</td>\n",
       "      <td>0.697248</td>\n",
       "      <td>0.660550</td>\n",
       "      <td>0.684473</td>\n",
       "      <td>0.030946</td>\n",
       "      <td>3</td>\n",
       "    </tr>\n",
       "    <tr>\n",
       "      <th>1</th>\n",
       "      <td>0.081988</td>\n",
       "      <td>0.012834</td>\n",
       "      <td>0.012229</td>\n",
       "      <td>0.002686</td>\n",
       "      <td>0.1</td>\n",
       "      <td>{'alpha': 0.1}</td>\n",
       "      <td>0.645455</td>\n",
       "      <td>0.654545</td>\n",
       "      <td>0.715596</td>\n",
       "      <td>0.660550</td>\n",
       "      <td>0.743119</td>\n",
       "      <td>0.633028</td>\n",
       "      <td>0.675382</td>\n",
       "      <td>0.039894</td>\n",
       "      <td>4</td>\n",
       "    </tr>\n",
       "    <tr>\n",
       "      <th>5</th>\n",
       "      <td>0.071808</td>\n",
       "      <td>0.002111</td>\n",
       "      <td>0.011598</td>\n",
       "      <td>0.001567</td>\n",
       "      <td>3</td>\n",
       "      <td>{'alpha': 3}</td>\n",
       "      <td>0.627273</td>\n",
       "      <td>0.663636</td>\n",
       "      <td>0.715596</td>\n",
       "      <td>0.651376</td>\n",
       "      <td>0.706422</td>\n",
       "      <td>0.642202</td>\n",
       "      <td>0.667751</td>\n",
       "      <td>0.032560</td>\n",
       "      <td>5</td>\n",
       "    </tr>\n",
       "  </tbody>\n",
       "</table>\n",
       "</div>"
      ],
      "text/plain": [
       "   mean_fit_time  std_fit_time  mean_score_time  std_score_time param_alpha  \\\n",
       "2       0.075963      0.002686         0.011381        0.000929         0.5   \n",
       "3       0.074333      0.003320         0.010884        0.000860         0.8   \n",
       "4       0.075539      0.003366         0.010551        0.000507           1   \n",
       "1       0.081988      0.012834         0.012229        0.002686         0.1   \n",
       "5       0.071808      0.002111         0.011598        0.001567           3   \n",
       "\n",
       "           params  split0_test_score  split1_test_score  split2_test_score  \\\n",
       "2  {'alpha': 0.5}           0.700000           0.690909           0.743119   \n",
       "3  {'alpha': 0.8}           0.700000           0.663636           0.743119   \n",
       "4    {'alpha': 1}           0.690909           0.663636           0.743119   \n",
       "1  {'alpha': 0.1}           0.645455           0.654545           0.715596   \n",
       "5    {'alpha': 3}           0.627273           0.663636           0.715596   \n",
       "\n",
       "   split3_test_score  split4_test_score  split5_test_score  mean_test_score  \\\n",
       "2           0.651376           0.688073           0.678899         0.692063   \n",
       "3           0.642202           0.697248           0.678899         0.687517   \n",
       "4           0.651376           0.697248           0.660550         0.684473   \n",
       "1           0.660550           0.743119           0.633028         0.675382   \n",
       "5           0.651376           0.706422           0.642202         0.667751   \n",
       "\n",
       "   std_test_score  rank_test_score  \n",
       "2        0.027434                1  \n",
       "3        0.031728                2  \n",
       "4        0.030946                3  \n",
       "1        0.039894                4  \n",
       "5        0.032560                5  "
      ]
     },
     "execution_count": 24,
     "metadata": {},
     "output_type": "execute_result"
    }
   ],
   "source": [
    "naive_m_dog = MultinomialNB()\n",
    "\n",
    "gs_dog = GridSearchCV(naive_m_dog,parameters,cv=6)\n",
    "gs_fit_dog = gs_dog.fit(X_dog_train,y_dog_train)\n",
    "pd.DataFrame(gs_fit_dog.cv_results_).sort_values('mean_test_score',ascending=False).head()"
   ]
  },
  {
   "cell_type": "code",
   "execution_count": 25,
   "metadata": {},
   "outputs": [
    {
     "data": {
      "text/plain": [
       "GridSearchCV(cv=6, estimator=MultinomialNB(),\n",
       "             param_grid={'alpha': [0.01, 0.1, 0.5, 0.8, 1, 3]})"
      ]
     },
     "execution_count": 25,
     "metadata": {},
     "output_type": "execute_result"
    }
   ],
   "source": [
    "gs_fit_dog.fit(X_dog_train,y_dog_train)"
   ]
  },
  {
   "cell_type": "code",
   "execution_count": 26,
   "metadata": {},
   "outputs": [],
   "source": [
    "predictions_dog = gs_fit_dog.predict(X_dog_test)"
   ]
  },
  {
   "cell_type": "code",
   "execution_count": 27,
   "metadata": {},
   "outputs": [
    {
     "name": "stdout",
     "output_type": "stream",
     "text": [
      "The accuracy score for dog data is :  0.7134146341463414\n"
     ]
    }
   ],
   "source": [
    "print('The accuracy score for dog data is : ',accuracy_score(y_dog_test,predictions_dog) )"
   ]
  },
  {
   "cell_type": "code",
   "execution_count": 28,
   "metadata": {},
   "outputs": [
    {
     "name": "stdout",
     "output_type": "stream",
     "text": [
      "Confusion matrix for dog data is :  [[18  0  0  0  0  3  6]\n",
      " [ 0 15  0  1  0  1  2]\n",
      " [ 0  0 12  0  0  0  2]\n",
      " [ 1  0  0 11  0  0  4]\n",
      " [ 4  0  0  4  8  1  6]\n",
      " [ 2  0  0  0  0  8  3]\n",
      " [ 0  1  0  4  2  0 45]]\n"
     ]
    }
   ],
   "source": [
    "print('Confusion matrix for dog data is : ',confusion_matrix(y_dog_test,predictions_dog) )"
   ]
  },
  {
   "cell_type": "code",
   "execution_count": 29,
   "metadata": {},
   "outputs": [
    {
     "name": "stdout",
     "output_type": "stream",
     "text": [
      "classification_report for dog data is : \n",
      "               precision    recall  f1-score   support\n",
      "\n",
      "           0       0.72      0.67      0.69        27\n",
      "           1       0.94      0.79      0.86        19\n",
      "           2       1.00      0.86      0.92        14\n",
      "           3       0.55      0.69      0.61        16\n",
      "           4       0.80      0.35      0.48        23\n",
      "           5       0.62      0.62      0.62        13\n",
      "           6       0.66      0.87      0.75        52\n",
      "\n",
      "    accuracy                           0.71       164\n",
      "   macro avg       0.75      0.69      0.70       164\n",
      "weighted avg       0.74      0.71      0.71       164\n",
      "\n"
     ]
    }
   ],
   "source": [
    "print('classification_report for dog data is : \\n', classification_report(y_dog_test,predictions_dog) )"
   ]
  },
  {
   "cell_type": "code",
   "execution_count": null,
   "metadata": {},
   "outputs": [],
   "source": [
    "## Model Building For chimpanzee Data"
   ]
  },
  {
   "cell_type": "code",
   "execution_count": 30,
   "metadata": {},
   "outputs": [
    {
     "data": {
      "text/plain": [
       "MultinomialNB(alpha=0.5)"
      ]
     },
     "execution_count": 30,
     "metadata": {},
     "output_type": "execute_result"
    }
   ],
   "source": [
    "naive_m_chimp = MultinomialNB(alpha=0.5)\n",
    "naive_m_chimp.fit(X_chimp_train,y_chimp_train)"
   ]
  },
  {
   "cell_type": "code",
   "execution_count": 31,
   "metadata": {},
   "outputs": [],
   "source": [
    "predictions_chimp = naive_m_chimp.predict(X_chimp_test)"
   ]
  },
  {
   "cell_type": "code",
   "execution_count": 32,
   "metadata": {},
   "outputs": [
    {
     "name": "stdout",
     "output_type": "stream",
     "text": [
      "The accuracy score for chimpanzee data is :  0.9109792284866469\n"
     ]
    }
   ],
   "source": [
    "print('The accuracy score for chimpanzee data is : ',accuracy_score(y_chimp_test,predictions_chimp))"
   ]
  },
  {
   "cell_type": "code",
   "execution_count": 33,
   "metadata": {},
   "outputs": [
    {
     "name": "stdout",
     "output_type": "stream",
     "text": [
      "Confusion matrix for chimpanzee data is :  [[ 25   0   0   1   1   1   0]\n",
      " [  0  38   0   1   0   0   0]\n",
      " [  0   0  26   0   0   0   1]\n",
      " [  0   0   0  41   2   0   0]\n",
      " [  0   1   0   5  44   0   2]\n",
      " [  3   0   0   2   3  19   2]\n",
      " [  0   0   0   5   0   0 114]]\n"
     ]
    }
   ],
   "source": [
    "print('Confusion matrix for chimpanzee data is : ',confusion_matrix(y_chimp_test,predictions_chimp))"
   ]
  },
  {
   "cell_type": "code",
   "execution_count": 34,
   "metadata": {},
   "outputs": [
    {
     "name": "stdout",
     "output_type": "stream",
     "text": [
      "classification_report for chimpanzee data is : \n",
      "               precision    recall  f1-score   support\n",
      "\n",
      "           0       0.89      0.89      0.89        28\n",
      "           1       0.97      0.97      0.97        39\n",
      "           2       1.00      0.96      0.98        27\n",
      "           3       0.75      0.95      0.84        43\n",
      "           4       0.88      0.85      0.86        52\n",
      "           5       0.95      0.66      0.78        29\n",
      "           6       0.96      0.96      0.96       119\n",
      "\n",
      "    accuracy                           0.91       337\n",
      "   macro avg       0.91      0.89      0.90       337\n",
      "weighted avg       0.92      0.91      0.91       337\n",
      "\n"
     ]
    }
   ],
   "source": [
    "print('classification_report for chimpanzee data is : \\n', classification_report(y_chimp_test,predictions_chimp))"
   ]
  },
  {
   "cell_type": "code",
   "execution_count": null,
   "metadata": {},
   "outputs": [],
   "source": []
  }
 ],
 "metadata": {
  "kernelspec": {
   "display_name": "Python 3",
   "language": "python",
   "name": "python3"
  },
  "language_info": {
   "codemirror_mode": {
    "name": "ipython",
    "version": 3
   },
   "file_extension": ".py",
   "mimetype": "text/x-python",
   "name": "python",
   "nbconvert_exporter": "python",
   "pygments_lexer": "ipython3",
   "version": "3.8.3"
  }
 },
 "nbformat": 4,
 "nbformat_minor": 4
}
